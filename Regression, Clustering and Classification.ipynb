{
 "cells": [
  {
   "cell_type": "code",
   "execution_count": 2,
   "id": "8adb0005",
   "metadata": {},
   "outputs": [],
   "source": [
    "import pandas as pd\n",
    "avocado = pd.read_csv('avocado.csv')"
   ]
  },
  {
   "cell_type": "code",
   "execution_count": 3,
   "id": "9adfba97",
   "metadata": {},
   "outputs": [
    {
     "data": {
      "text/html": [
       "<div>\n",
       "<style scoped>\n",
       "    .dataframe tbody tr th:only-of-type {\n",
       "        vertical-align: middle;\n",
       "    }\n",
       "\n",
       "    .dataframe tbody tr th {\n",
       "        vertical-align: top;\n",
       "    }\n",
       "\n",
       "    .dataframe thead th {\n",
       "        text-align: right;\n",
       "    }\n",
       "</style>\n",
       "<table border=\"1\" class=\"dataframe\">\n",
       "  <thead>\n",
       "    <tr style=\"text-align: right;\">\n",
       "      <th></th>\n",
       "      <th>Unnamed: 0</th>\n",
       "      <th>Date</th>\n",
       "      <th>AveragePrice</th>\n",
       "      <th>Total Volume</th>\n",
       "      <th>4046</th>\n",
       "      <th>4225</th>\n",
       "      <th>4770</th>\n",
       "      <th>Total Bags</th>\n",
       "      <th>Small Bags</th>\n",
       "      <th>Large Bags</th>\n",
       "      <th>XLarge Bags</th>\n",
       "      <th>type</th>\n",
       "      <th>year</th>\n",
       "      <th>region</th>\n",
       "    </tr>\n",
       "  </thead>\n",
       "  <tbody>\n",
       "    <tr>\n",
       "      <th>0</th>\n",
       "      <td>0</td>\n",
       "      <td>2015-12-27</td>\n",
       "      <td>1.33</td>\n",
       "      <td>64236.62</td>\n",
       "      <td>1036.74</td>\n",
       "      <td>54454.85</td>\n",
       "      <td>48.16</td>\n",
       "      <td>8696.87</td>\n",
       "      <td>8603.62</td>\n",
       "      <td>93.25</td>\n",
       "      <td>0.0</td>\n",
       "      <td>conventional</td>\n",
       "      <td>2015</td>\n",
       "      <td>Albany</td>\n",
       "    </tr>\n",
       "    <tr>\n",
       "      <th>1</th>\n",
       "      <td>1</td>\n",
       "      <td>2015-12-20</td>\n",
       "      <td>1.35</td>\n",
       "      <td>54876.98</td>\n",
       "      <td>674.28</td>\n",
       "      <td>44638.81</td>\n",
       "      <td>58.33</td>\n",
       "      <td>9505.56</td>\n",
       "      <td>9408.07</td>\n",
       "      <td>97.49</td>\n",
       "      <td>0.0</td>\n",
       "      <td>conventional</td>\n",
       "      <td>2015</td>\n",
       "      <td>Albany</td>\n",
       "    </tr>\n",
       "    <tr>\n",
       "      <th>2</th>\n",
       "      <td>2</td>\n",
       "      <td>2015-12-13</td>\n",
       "      <td>0.93</td>\n",
       "      <td>118220.22</td>\n",
       "      <td>794.70</td>\n",
       "      <td>109149.67</td>\n",
       "      <td>130.50</td>\n",
       "      <td>8145.35</td>\n",
       "      <td>8042.21</td>\n",
       "      <td>103.14</td>\n",
       "      <td>0.0</td>\n",
       "      <td>conventional</td>\n",
       "      <td>2015</td>\n",
       "      <td>Albany</td>\n",
       "    </tr>\n",
       "    <tr>\n",
       "      <th>3</th>\n",
       "      <td>3</td>\n",
       "      <td>2015-12-06</td>\n",
       "      <td>1.08</td>\n",
       "      <td>78992.15</td>\n",
       "      <td>1132.00</td>\n",
       "      <td>71976.41</td>\n",
       "      <td>72.58</td>\n",
       "      <td>5811.16</td>\n",
       "      <td>5677.40</td>\n",
       "      <td>133.76</td>\n",
       "      <td>0.0</td>\n",
       "      <td>conventional</td>\n",
       "      <td>2015</td>\n",
       "      <td>Albany</td>\n",
       "    </tr>\n",
       "    <tr>\n",
       "      <th>4</th>\n",
       "      <td>4</td>\n",
       "      <td>2015-11-29</td>\n",
       "      <td>1.28</td>\n",
       "      <td>51039.60</td>\n",
       "      <td>941.48</td>\n",
       "      <td>43838.39</td>\n",
       "      <td>75.78</td>\n",
       "      <td>6183.95</td>\n",
       "      <td>5986.26</td>\n",
       "      <td>197.69</td>\n",
       "      <td>0.0</td>\n",
       "      <td>conventional</td>\n",
       "      <td>2015</td>\n",
       "      <td>Albany</td>\n",
       "    </tr>\n",
       "    <tr>\n",
       "      <th>...</th>\n",
       "      <td>...</td>\n",
       "      <td>...</td>\n",
       "      <td>...</td>\n",
       "      <td>...</td>\n",
       "      <td>...</td>\n",
       "      <td>...</td>\n",
       "      <td>...</td>\n",
       "      <td>...</td>\n",
       "      <td>...</td>\n",
       "      <td>...</td>\n",
       "      <td>...</td>\n",
       "      <td>...</td>\n",
       "      <td>...</td>\n",
       "      <td>...</td>\n",
       "    </tr>\n",
       "    <tr>\n",
       "      <th>18244</th>\n",
       "      <td>7</td>\n",
       "      <td>2018-02-04</td>\n",
       "      <td>1.63</td>\n",
       "      <td>17074.83</td>\n",
       "      <td>2046.96</td>\n",
       "      <td>1529.20</td>\n",
       "      <td>0.00</td>\n",
       "      <td>13498.67</td>\n",
       "      <td>13066.82</td>\n",
       "      <td>431.85</td>\n",
       "      <td>0.0</td>\n",
       "      <td>organic</td>\n",
       "      <td>2018</td>\n",
       "      <td>WestTexNewMexico</td>\n",
       "    </tr>\n",
       "    <tr>\n",
       "      <th>18245</th>\n",
       "      <td>8</td>\n",
       "      <td>2018-01-28</td>\n",
       "      <td>1.71</td>\n",
       "      <td>13888.04</td>\n",
       "      <td>1191.70</td>\n",
       "      <td>3431.50</td>\n",
       "      <td>0.00</td>\n",
       "      <td>9264.84</td>\n",
       "      <td>8940.04</td>\n",
       "      <td>324.80</td>\n",
       "      <td>0.0</td>\n",
       "      <td>organic</td>\n",
       "      <td>2018</td>\n",
       "      <td>WestTexNewMexico</td>\n",
       "    </tr>\n",
       "    <tr>\n",
       "      <th>18246</th>\n",
       "      <td>9</td>\n",
       "      <td>2018-01-21</td>\n",
       "      <td>1.87</td>\n",
       "      <td>13766.76</td>\n",
       "      <td>1191.92</td>\n",
       "      <td>2452.79</td>\n",
       "      <td>727.94</td>\n",
       "      <td>9394.11</td>\n",
       "      <td>9351.80</td>\n",
       "      <td>42.31</td>\n",
       "      <td>0.0</td>\n",
       "      <td>organic</td>\n",
       "      <td>2018</td>\n",
       "      <td>WestTexNewMexico</td>\n",
       "    </tr>\n",
       "    <tr>\n",
       "      <th>18247</th>\n",
       "      <td>10</td>\n",
       "      <td>2018-01-14</td>\n",
       "      <td>1.93</td>\n",
       "      <td>16205.22</td>\n",
       "      <td>1527.63</td>\n",
       "      <td>2981.04</td>\n",
       "      <td>727.01</td>\n",
       "      <td>10969.54</td>\n",
       "      <td>10919.54</td>\n",
       "      <td>50.00</td>\n",
       "      <td>0.0</td>\n",
       "      <td>organic</td>\n",
       "      <td>2018</td>\n",
       "      <td>WestTexNewMexico</td>\n",
       "    </tr>\n",
       "    <tr>\n",
       "      <th>18248</th>\n",
       "      <td>11</td>\n",
       "      <td>2018-01-07</td>\n",
       "      <td>1.62</td>\n",
       "      <td>17489.58</td>\n",
       "      <td>2894.77</td>\n",
       "      <td>2356.13</td>\n",
       "      <td>224.53</td>\n",
       "      <td>12014.15</td>\n",
       "      <td>11988.14</td>\n",
       "      <td>26.01</td>\n",
       "      <td>0.0</td>\n",
       "      <td>organic</td>\n",
       "      <td>2018</td>\n",
       "      <td>WestTexNewMexico</td>\n",
       "    </tr>\n",
       "  </tbody>\n",
       "</table>\n",
       "<p>18249 rows × 14 columns</p>\n",
       "</div>"
      ],
      "text/plain": [
       "       Unnamed: 0        Date  AveragePrice  Total Volume     4046       4225  \\\n",
       "0               0  2015-12-27          1.33      64236.62  1036.74   54454.85   \n",
       "1               1  2015-12-20          1.35      54876.98   674.28   44638.81   \n",
       "2               2  2015-12-13          0.93     118220.22   794.70  109149.67   \n",
       "3               3  2015-12-06          1.08      78992.15  1132.00   71976.41   \n",
       "4               4  2015-11-29          1.28      51039.60   941.48   43838.39   \n",
       "...           ...         ...           ...           ...      ...        ...   \n",
       "18244           7  2018-02-04          1.63      17074.83  2046.96    1529.20   \n",
       "18245           8  2018-01-28          1.71      13888.04  1191.70    3431.50   \n",
       "18246           9  2018-01-21          1.87      13766.76  1191.92    2452.79   \n",
       "18247          10  2018-01-14          1.93      16205.22  1527.63    2981.04   \n",
       "18248          11  2018-01-07          1.62      17489.58  2894.77    2356.13   \n",
       "\n",
       "         4770  Total Bags  Small Bags  Large Bags  XLarge Bags          type  \\\n",
       "0       48.16     8696.87     8603.62       93.25          0.0  conventional   \n",
       "1       58.33     9505.56     9408.07       97.49          0.0  conventional   \n",
       "2      130.50     8145.35     8042.21      103.14          0.0  conventional   \n",
       "3       72.58     5811.16     5677.40      133.76          0.0  conventional   \n",
       "4       75.78     6183.95     5986.26      197.69          0.0  conventional   \n",
       "...       ...         ...         ...         ...          ...           ...   \n",
       "18244    0.00    13498.67    13066.82      431.85          0.0       organic   \n",
       "18245    0.00     9264.84     8940.04      324.80          0.0       organic   \n",
       "18246  727.94     9394.11     9351.80       42.31          0.0       organic   \n",
       "18247  727.01    10969.54    10919.54       50.00          0.0       organic   \n",
       "18248  224.53    12014.15    11988.14       26.01          0.0       organic   \n",
       "\n",
       "       year            region  \n",
       "0      2015            Albany  \n",
       "1      2015            Albany  \n",
       "2      2015            Albany  \n",
       "3      2015            Albany  \n",
       "4      2015            Albany  \n",
       "...     ...               ...  \n",
       "18244  2018  WestTexNewMexico  \n",
       "18245  2018  WestTexNewMexico  \n",
       "18246  2018  WestTexNewMexico  \n",
       "18247  2018  WestTexNewMexico  \n",
       "18248  2018  WestTexNewMexico  \n",
       "\n",
       "[18249 rows x 14 columns]"
      ]
     },
     "execution_count": 3,
     "metadata": {},
     "output_type": "execute_result"
    }
   ],
   "source": [
    "avocado"
   ]
  },
  {
   "cell_type": "code",
   "execution_count": 4,
   "id": "da4ecd2c",
   "metadata": {},
   "outputs": [],
   "source": [
    "price_Volume = avocado[[\"AveragePrice\",\"Total Volume\"]]"
   ]
  },
  {
   "cell_type": "code",
   "execution_count": 5,
   "id": "ca2b464a",
   "metadata": {},
   "outputs": [
    {
     "data": {
      "text/html": [
       "<div>\n",
       "<style scoped>\n",
       "    .dataframe tbody tr th:only-of-type {\n",
       "        vertical-align: middle;\n",
       "    }\n",
       "\n",
       "    .dataframe tbody tr th {\n",
       "        vertical-align: top;\n",
       "    }\n",
       "\n",
       "    .dataframe thead th {\n",
       "        text-align: right;\n",
       "    }\n",
       "</style>\n",
       "<table border=\"1\" class=\"dataframe\">\n",
       "  <thead>\n",
       "    <tr style=\"text-align: right;\">\n",
       "      <th></th>\n",
       "      <th>AveragePrice</th>\n",
       "      <th>Total Volume</th>\n",
       "    </tr>\n",
       "  </thead>\n",
       "  <tbody>\n",
       "    <tr>\n",
       "      <th>0</th>\n",
       "      <td>1.33</td>\n",
       "      <td>64236.62</td>\n",
       "    </tr>\n",
       "    <tr>\n",
       "      <th>1</th>\n",
       "      <td>1.35</td>\n",
       "      <td>54876.98</td>\n",
       "    </tr>\n",
       "    <tr>\n",
       "      <th>2</th>\n",
       "      <td>0.93</td>\n",
       "      <td>118220.22</td>\n",
       "    </tr>\n",
       "    <tr>\n",
       "      <th>3</th>\n",
       "      <td>1.08</td>\n",
       "      <td>78992.15</td>\n",
       "    </tr>\n",
       "    <tr>\n",
       "      <th>4</th>\n",
       "      <td>1.28</td>\n",
       "      <td>51039.60</td>\n",
       "    </tr>\n",
       "    <tr>\n",
       "      <th>...</th>\n",
       "      <td>...</td>\n",
       "      <td>...</td>\n",
       "    </tr>\n",
       "    <tr>\n",
       "      <th>18244</th>\n",
       "      <td>1.63</td>\n",
       "      <td>17074.83</td>\n",
       "    </tr>\n",
       "    <tr>\n",
       "      <th>18245</th>\n",
       "      <td>1.71</td>\n",
       "      <td>13888.04</td>\n",
       "    </tr>\n",
       "    <tr>\n",
       "      <th>18246</th>\n",
       "      <td>1.87</td>\n",
       "      <td>13766.76</td>\n",
       "    </tr>\n",
       "    <tr>\n",
       "      <th>18247</th>\n",
       "      <td>1.93</td>\n",
       "      <td>16205.22</td>\n",
       "    </tr>\n",
       "    <tr>\n",
       "      <th>18248</th>\n",
       "      <td>1.62</td>\n",
       "      <td>17489.58</td>\n",
       "    </tr>\n",
       "  </tbody>\n",
       "</table>\n",
       "<p>18249 rows × 2 columns</p>\n",
       "</div>"
      ],
      "text/plain": [
       "       AveragePrice  Total Volume\n",
       "0              1.33      64236.62\n",
       "1              1.35      54876.98\n",
       "2              0.93     118220.22\n",
       "3              1.08      78992.15\n",
       "4              1.28      51039.60\n",
       "...             ...           ...\n",
       "18244          1.63      17074.83\n",
       "18245          1.71      13888.04\n",
       "18246          1.87      13766.76\n",
       "18247          1.93      16205.22\n",
       "18248          1.62      17489.58\n",
       "\n",
       "[18249 rows x 2 columns]"
      ]
     },
     "execution_count": 5,
     "metadata": {},
     "output_type": "execute_result"
    }
   ],
   "source": [
    "price_Volume"
   ]
  },
  {
   "cell_type": "code",
   "execution_count": 6,
   "id": "822f0955",
   "metadata": {},
   "outputs": [],
   "source": [
    "x = price_Volume.iloc[:,:-1].values"
   ]
  },
  {
   "cell_type": "code",
   "execution_count": 7,
   "id": "cc75d612",
   "metadata": {},
   "outputs": [],
   "source": [
    "y = price_Volume.iloc[:,1].values"
   ]
  },
  {
   "cell_type": "code",
   "execution_count": 8,
   "id": "445c9ed5-d1d1-4d2b-b7d8-b187f50f7679",
   "metadata": {},
   "outputs": [],
   "source": [
    "twoVar = price_Volume.iloc[:,:].values"
   ]
  },
  {
   "cell_type": "code",
   "execution_count": 9,
   "id": "501afe03-4895-4272-bfbc-994184a4dc48",
   "metadata": {},
   "outputs": [
    {
     "data": {
      "text/plain": [
       "array([[1.3300000e+00, 6.4236620e+04],\n",
       "       [1.3500000e+00, 5.4876980e+04],\n",
       "       [9.3000000e-01, 1.1822022e+05],\n",
       "       ...,\n",
       "       [1.8700000e+00, 1.3766760e+04],\n",
       "       [1.9300000e+00, 1.6205220e+04],\n",
       "       [1.6200000e+00, 1.7489580e+04]])"
      ]
     },
     "execution_count": 9,
     "metadata": {},
     "output_type": "execute_result"
    }
   ],
   "source": [
    "twoVar"
   ]
  },
  {
   "cell_type": "code",
   "execution_count": 10,
   "id": "bf873a4e",
   "metadata": {},
   "outputs": [],
   "source": [
    "from sklearn.model_selection import train_test_split\n",
    "xTrain, xTest, yTrain, yTest = train_test_split(x,y,test_size = 0.3, random_state = 42)"
   ]
  },
  {
   "cell_type": "code",
   "execution_count": 11,
   "id": "bc9d1034",
   "metadata": {},
   "outputs": [],
   "source": [
    "from sklearn import linear_model\n",
    "linearModel = linear_model.LinearRegression().fit(xTrain,yTrain)"
   ]
  },
  {
   "cell_type": "code",
   "execution_count": 12,
   "id": "33ea3d59",
   "metadata": {
    "scrolled": true
   },
   "outputs": [
    {
     "data": {
      "text/plain": [
       "array([-1679333.94199651])"
      ]
     },
     "execution_count": 12,
     "metadata": {},
     "output_type": "execute_result"
    }
   ],
   "source": [
    "linearModel.coef_"
   ]
  },
  {
   "cell_type": "code",
   "execution_count": 13,
   "id": "189be284",
   "metadata": {},
   "outputs": [
    {
     "data": {
      "text/plain": [
       "3217961.5269852"
      ]
     },
     "execution_count": 13,
     "metadata": {},
     "output_type": "execute_result"
    }
   ],
   "source": [
    "linearModel.intercept_"
   ]
  },
  {
   "cell_type": "code",
   "execution_count": 14,
   "id": "b4a97501",
   "metadata": {},
   "outputs": [],
   "source": [
    "linearYP = linearModel.predict(xTest)"
   ]
  },
  {
   "cell_type": "code",
   "execution_count": 15,
   "id": "1d396033",
   "metadata": {},
   "outputs": [
    {
     "data": {
      "text/plain": [
       "11580803297878.777"
      ]
     },
     "execution_count": 15,
     "metadata": {},
     "output_type": "execute_result"
    }
   ],
   "source": [
    "from sklearn.metrics import mean_squared_error\n",
    "linearMSE = mean_squared_error(yTest,linearYP)\n",
    "linearMSE"
   ]
  },
  {
   "cell_type": "markdown",
   "id": "3d12eeff",
   "metadata": {},
   "source": [
    "### Linear MSE 11580803297878.777"
   ]
  },
  {
   "cell_type": "code",
   "execution_count": 16,
   "id": "5f21140e",
   "metadata": {},
   "outputs": [],
   "source": [
    "ridgeModel = linear_model.Ridge(alpha = .5).fit(xTrain,yTrain)"
   ]
  },
  {
   "cell_type": "code",
   "execution_count": 17,
   "id": "20ec38e7",
   "metadata": {},
   "outputs": [
    {
     "data": {
      "text/plain": [
       "array([-1678929.48649987])"
      ]
     },
     "execution_count": 17,
     "metadata": {},
     "output_type": "execute_result"
    }
   ],
   "source": [
    "ridgeModel.coef_"
   ]
  },
  {
   "cell_type": "code",
   "execution_count": 18,
   "id": "4a761c10",
   "metadata": {},
   "outputs": [
    {
     "data": {
      "text/plain": [
       "3217393.105850799"
      ]
     },
     "execution_count": 18,
     "metadata": {},
     "output_type": "execute_result"
    }
   ],
   "source": [
    "ridgeModel.intercept_"
   ]
  },
  {
   "cell_type": "code",
   "execution_count": 19,
   "id": "2b4cf5d3",
   "metadata": {},
   "outputs": [],
   "source": [
    "ridgeYP = ridgeModel.predict(xTest)"
   ]
  },
  {
   "cell_type": "code",
   "execution_count": 20,
   "id": "856f5509",
   "metadata": {},
   "outputs": [
    {
     "data": {
      "text/plain": [
       "11580791881181.734"
      ]
     },
     "execution_count": 20,
     "metadata": {},
     "output_type": "execute_result"
    }
   ],
   "source": [
    "ridgeMSE = mean_squared_error(yTest,ridgeYP)\n",
    "ridgeMSE"
   ]
  },
  {
   "cell_type": "markdown",
   "id": "ba0a6aee",
   "metadata": {},
   "source": [
    "### Ridge MSE 11579947680883.408"
   ]
  },
  {
   "cell_type": "code",
   "execution_count": 21,
   "id": "34712535",
   "metadata": {},
   "outputs": [],
   "source": [
    "lassoModel = linear_model.Lasso(alpha = 0.1).fit(xTrain,yTrain)"
   ]
  },
  {
   "cell_type": "code",
   "execution_count": 22,
   "id": "64e76942",
   "metadata": {},
   "outputs": [
    {
     "data": {
      "text/plain": [
       "array([-1679333.32654309])"
      ]
     },
     "execution_count": 22,
     "metadata": {},
     "output_type": "execute_result"
    }
   ],
   "source": [
    "lassoModel.coef_"
   ]
  },
  {
   "cell_type": "code",
   "execution_count": 23,
   "id": "bae45a98",
   "metadata": {},
   "outputs": [],
   "source": [
    "lassoYP = lassoModel.predict(xTest)"
   ]
  },
  {
   "cell_type": "code",
   "execution_count": 24,
   "id": "38c34cba",
   "metadata": {},
   "outputs": [
    {
     "data": {
      "text/plain": [
       "11580803280466.072"
      ]
     },
     "execution_count": 24,
     "metadata": {},
     "output_type": "execute_result"
    }
   ],
   "source": [
    "lassoMSE = mean_squared_error(yTest,lassoYP)\n",
    "lassoMSE"
   ]
  },
  {
   "cell_type": "markdown",
   "id": "9f3bbb6c",
   "metadata": {},
   "source": [
    "### Lasso MSE 11579953208556.69"
   ]
  },
  {
   "cell_type": "code",
   "execution_count": 25,
   "id": "067b1641",
   "metadata": {},
   "outputs": [
    {
     "data": {
      "text/plain": [
       "'Ridge Regression'"
      ]
     },
     "execution_count": 25,
     "metadata": {},
     "output_type": "execute_result"
    }
   ],
   "source": [
    "data = {'Linear Regression' : linearMSE, 'Ridge Regression' : ridgeMSE, 'Lasso Regression' : lassoMSE}\n",
    "min(data, key = data.get)"
   ]
  },
  {
   "cell_type": "code",
   "execution_count": 26,
   "id": "9c2520e3",
   "metadata": {},
   "outputs": [],
   "source": [
    "import numpy as np\n",
    "medianYTrain = np.median(yTrain)\n",
    "yTrain = np.where(yTrain > medianYTrain, 1,0)"
   ]
  },
  {
   "cell_type": "code",
   "execution_count": 27,
   "id": "576eb1b9",
   "metadata": {},
   "outputs": [],
   "source": [
    "from sklearn import svm"
   ]
  },
  {
   "cell_type": "code",
   "execution_count": 28,
   "id": "b34e3bf0",
   "metadata": {},
   "outputs": [
    {
     "data": {
      "text/plain": [
       "SVC(kernel='sigmoid')"
      ]
     },
     "execution_count": 28,
     "metadata": {},
     "output_type": "execute_result"
    }
   ],
   "source": [
    "svcModel = svm.SVC(kernel='sigmoid')\n",
    "svcModel.fit(xTrain,yTrain)"
   ]
  },
  {
   "cell_type": "code",
   "execution_count": 29,
   "id": "cfa6203d",
   "metadata": {},
   "outputs": [],
   "source": [
    "svcYP = svcModel.predict(xTest)"
   ]
  },
  {
   "cell_type": "code",
   "execution_count": 30,
   "id": "6f06a815",
   "metadata": {},
   "outputs": [
    {
     "data": {
      "text/plain": [
       "0.4469406392694064"
      ]
     },
     "execution_count": 30,
     "metadata": {},
     "output_type": "execute_result"
    }
   ],
   "source": [
    "from sklearn.metrics import accuracy_score, precision_score\n",
    "yTest = np.where(yTest > medianYTrain, 1,0)\n",
    "svcAccu = accuracy_score(yTest, svcYP)\n",
    "svcAccu"
   ]
  },
  {
   "cell_type": "markdown",
   "id": "6bdc2ccc",
   "metadata": {},
   "source": [
    "### SVC Accuracy 0.9421004566210046"
   ]
  },
  {
   "cell_type": "code",
   "execution_count": 31,
   "id": "33b57235",
   "metadata": {},
   "outputs": [
    {
     "data": {
      "text/plain": [
       "0.4668476153547887"
      ]
     },
     "execution_count": 31,
     "metadata": {},
     "output_type": "execute_result"
    }
   ],
   "source": [
    "svcPres = precision_score(yTest,svcYP)\n",
    "svcPres"
   ]
  },
  {
   "cell_type": "code",
   "execution_count": 32,
   "id": "e01d2784",
   "metadata": {},
   "outputs": [],
   "source": [
    "from sklearn import tree"
   ]
  },
  {
   "cell_type": "code",
   "execution_count": 33,
   "id": "da8cb2a8",
   "metadata": {},
   "outputs": [],
   "source": [
    "treeModel = tree.DecisionTreeClassifier(criterion='entropy')\n",
    "treeModel = treeModel.fit(xTrain, yTrain)"
   ]
  },
  {
   "cell_type": "code",
   "execution_count": 34,
   "id": "9ba25a66",
   "metadata": {},
   "outputs": [],
   "source": [
    "treeYP = treeModel.predict(xTest)"
   ]
  },
  {
   "cell_type": "code",
   "execution_count": 35,
   "id": "e46f0d6c",
   "metadata": {},
   "outputs": [
    {
     "data": {
      "text/plain": [
       "0.7442922374429224"
      ]
     },
     "execution_count": 35,
     "metadata": {},
     "output_type": "execute_result"
    }
   ],
   "source": [
    "treeAccu = accuracy_score(yTest,treeYP)\n",
    "treeAccu"
   ]
  },
  {
   "cell_type": "markdown",
   "id": "69c49f24",
   "metadata": {},
   "source": [
    "### Tree Accuracy 0.47963470319634705"
   ]
  },
  {
   "cell_type": "code",
   "execution_count": 36,
   "id": "951a4e53",
   "metadata": {},
   "outputs": [
    {
     "data": {
      "text/plain": [
       "0.7448591012947449"
      ]
     },
     "execution_count": 36,
     "metadata": {},
     "output_type": "execute_result"
    }
   ],
   "source": [
    "treePres = precision_score(yTest,treeYP)\n",
    "treePres"
   ]
  },
  {
   "cell_type": "markdown",
   "id": "e453c49d",
   "metadata": {},
   "source": [
    "### 6/17/22 Research Lab Code "
   ]
  },
  {
   "cell_type": "code",
   "execution_count": 37,
   "id": "f2ac74c5-5a7f-43b6-8a24-b21b5e9989fc",
   "metadata": {},
   "outputs": [],
   "source": [
    "from sklearn.cluster import KMeans"
   ]
  },
  {
   "cell_type": "code",
   "execution_count": 38,
   "id": "f9066c45-9027-4a01-b07d-bd491df7895f",
   "metadata": {},
   "outputs": [],
   "source": [
    "import numpy as np"
   ]
  },
  {
   "cell_type": "code",
   "execution_count": 39,
   "id": "c2055ed6-2dec-41d3-9836-2d368b44f5be",
   "metadata": {},
   "outputs": [],
   "source": [
    "kmeans = KMeans(n_clusters = 2, random_state = 0).fit(price_Volume)"
   ]
  },
  {
   "cell_type": "code",
   "execution_count": 40,
   "id": "0109cd34-3423-4171-8374-17ed4fcc3e30",
   "metadata": {},
   "outputs": [
    {
     "data": {
      "text/plain": [
       "0.9907392185873198"
      ]
     },
     "execution_count": 40,
     "metadata": {},
     "output_type": "execute_result"
    }
   ],
   "source": [
    "np.mean(kmeans.labels_)"
   ]
  },
  {
   "cell_type": "code",
   "execution_count": 41,
   "id": "4a168659-8477-4d2b-a7e0-cb8208b81f2a",
   "metadata": {},
   "outputs": [],
   "source": [
    "import matplotlib.pyplot as plt"
   ]
  },
  {
   "cell_type": "code",
   "execution_count": 42,
   "id": "e2c3f1c2-e062-4263-89a6-6f0d4c353612",
   "metadata": {},
   "outputs": [],
   "source": [
    "label = kmeans.fit_predict(twoVar)"
   ]
  },
  {
   "cell_type": "code",
   "execution_count": 43,
   "id": "1b988cda-983f-41a6-9b0f-0ae78e917fe8",
   "metadata": {},
   "outputs": [],
   "source": [
    "label0 = twoVar[label == 0]"
   ]
  },
  {
   "cell_type": "code",
   "execution_count": 44,
   "id": "ea94c871-cb14-4a00-8a4f-2aa430fe2f31",
   "metadata": {},
   "outputs": [
    {
     "data": {
      "text/plain": [
       "array([[9.50000000e-01, 2.72979837e+07],\n",
       "       [9.80000000e-01, 2.50836472e+07],\n",
       "       [9.30000000e-01, 2.80413354e+07],\n",
       "       [8.90000000e-01, 2.88003966e+07],\n",
       "       [9.90000000e-01, 2.26179994e+07],\n",
       "       [9.60000000e-01, 2.51142281e+07],\n",
       "       [9.20000000e-01, 2.85977563e+07],\n",
       "       [9.70000000e-01, 2.84857160e+07],\n",
       "       [9.70000000e-01, 3.10474843e+07],\n",
       "       [1.04000000e+00, 2.62400721e+07],\n",
       "       [9.90000000e-01, 2.93751236e+07],\n",
       "       [1.00000000e+00, 2.92161981e+07],\n",
       "       [1.02000000e+00, 2.82435055e+07],\n",
       "       [1.03000000e+00, 2.77535081e+07],\n",
       "       [1.02000000e+00, 2.95690866e+07],\n",
       "       [1.03000000e+00, 3.12458356e+07],\n",
       "       [1.02000000e+00, 3.35264801e+07],\n",
       "       [1.07000000e+00, 2.97616385e+07],\n",
       "       [1.08000000e+00, 2.96998456e+07],\n",
       "       [1.05000000e+00, 3.19368562e+07],\n",
       "       [1.05000000e+00, 3.32549119e+07],\n",
       "       [1.09000000e+00, 3.03584679e+07],\n",
       "       [1.07000000e+00, 3.06522111e+07],\n",
       "       [1.07000000e+00, 3.23246477e+07],\n",
       "       [1.07000000e+00, 3.16600317e+07],\n",
       "       [1.04000000e+00, 3.79436703e+07],\n",
       "       [1.06000000e+00, 3.24087057e+07],\n",
       "       [1.02000000e+00, 3.57346139e+07],\n",
       "       [9.80000000e-01, 3.70260858e+07],\n",
       "       [1.00000000e+00, 3.65499957e+07],\n",
       "       [1.03000000e+00, 3.37201591e+07],\n",
       "       [1.04000000e+00, 3.53441831e+07],\n",
       "       [1.06000000e+00, 3.20276861e+07],\n",
       "       [1.02000000e+00, 3.64008866e+07],\n",
       "       [9.60000000e-01, 4.12917044e+07],\n",
       "       [1.07000000e+00, 3.08941578e+07],\n",
       "       [1.03000000e+00, 3.30912563e+07],\n",
       "       [1.02000000e+00, 3.20464016e+07],\n",
       "       [1.06000000e+00, 3.15006694e+07],\n",
       "       [1.04000000e+00, 2.99826484e+07],\n",
       "       [1.01000000e+00, 3.25135505e+07],\n",
       "       [1.04000000e+00, 2.95722257e+07],\n",
       "       [1.02000000e+00, 3.00946989e+07],\n",
       "       [9.70000000e-01, 3.29940142e+07],\n",
       "       [1.02000000e+00, 2.99367298e+07],\n",
       "       [1.03000000e+00, 2.80125209e+07],\n",
       "       [9.50000000e-01, 3.21373330e+07],\n",
       "       [8.90000000e-01, 4.46554615e+07],\n",
       "       [1.04000000e+00, 2.84703108e+07],\n",
       "       [1.03000000e+00, 2.90434589e+07],\n",
       "       [1.01000000e+00, 2.90635428e+07],\n",
       "       [9.50000000e-01, 3.13242777e+07],\n",
       "       [1.00000000e+00, 3.02878537e+07],\n",
       "       [9.60000000e-01, 2.95838826e+07],\n",
       "       [9.80000000e-01, 3.00935407e+07],\n",
       "       [1.00000000e+00, 3.16212219e+07],\n",
       "       [1.21000000e+00, 2.29230626e+07],\n",
       "       [1.27000000e+00, 2.49897028e+07],\n",
       "       [1.36000000e+00, 2.40751265e+07],\n",
       "       [1.44000000e+00, 2.25346984e+07],\n",
       "       [1.43000000e+00, 2.10097302e+07],\n",
       "       [1.34000000e+00, 2.47535139e+07],\n",
       "       [1.30000000e+00, 2.77070468e+07],\n",
       "       [1.27000000e+00, 2.88575820e+07],\n",
       "       [1.23000000e+00, 2.96150085e+07],\n",
       "       [1.22000000e+00, 3.03051129e+07],\n",
       "       [1.15000000e+00, 3.13460915e+07],\n",
       "       [1.08000000e+00, 3.41267310e+07],\n",
       "       [1.04000000e+00, 3.71306889e+07],\n",
       "       [1.09000000e+00, 3.39939313e+07],\n",
       "       [1.10000000e+00, 3.35920977e+07],\n",
       "       [1.12000000e+00, 3.43861773e+07],\n",
       "       [1.15000000e+00, 3.38199091e+07],\n",
       "       [1.23000000e+00, 3.12015902e+07],\n",
       "       [1.20000000e+00, 3.23393771e+07],\n",
       "       [1.15000000e+00, 3.26561236e+07],\n",
       "       [1.10000000e+00, 3.55675684e+07],\n",
       "       [1.06000000e+00, 3.99931860e+07],\n",
       "       [1.04000000e+00, 3.66170238e+07],\n",
       "       [1.02000000e+00, 3.84899361e+07],\n",
       "       [1.04000000e+00, 3.55808200e+07],\n",
       "       [9.70000000e-01, 4.02312596e+07],\n",
       "       [9.40000000e-01, 4.00190752e+07],\n",
       "       [9.30000000e-01, 3.69580355e+07],\n",
       "       [8.90000000e-01, 3.99149967e+07],\n",
       "       [8.20000000e-01, 4.63245297e+07],\n",
       "       [8.40000000e-01, 4.28676085e+07],\n",
       "       [8.70000000e-01, 3.96076953e+07],\n",
       "       [9.00000000e-01, 3.74678852e+07],\n",
       "       [9.00000000e-01, 3.65840294e+07],\n",
       "       [9.40000000e-01, 3.36684505e+07],\n",
       "       [9.40000000e-01, 3.59301959e+07],\n",
       "       [9.30000000e-01, 3.63354838e+07],\n",
       "       [9.30000000e-01, 3.63745161e+07],\n",
       "       [9.50000000e-01, 3.50645060e+07],\n",
       "       [9.10000000e-01, 3.68018177e+07],\n",
       "       [9.40000000e-01, 3.28047332e+07],\n",
       "       [8.80000000e-01, 3.64764419e+07],\n",
       "       [7.60000000e-01, 5.22886979e+07],\n",
       "       [9.30000000e-01, 3.47212499e+07],\n",
       "       [9.50000000e-01, 3.27870792e+07],\n",
       "       [9.40000000e-01, 3.44263419e+07],\n",
       "       [9.30000000e-01, 3.52643360e+07],\n",
       "       [8.60000000e-01, 3.81420880e+07],\n",
       "       [9.80000000e-01, 3.82673416e+07],\n",
       "       [1.18000000e+00, 2.91023493e+07],\n",
       "       [1.07000000e+00, 3.07577670e+07],\n",
       "       [1.03000000e+00, 3.56349130e+07],\n",
       "       [1.09000000e+00, 3.38242530e+07],\n",
       "       [1.24000000e+00, 2.46866750e+07],\n",
       "       [1.17000000e+00, 2.92534840e+07],\n",
       "       [1.15000000e+00, 3.23362250e+07],\n",
       "       [1.19000000e+00, 3.20515942e+07],\n",
       "       [1.29000000e+00, 3.02379112e+07],\n",
       "       [1.44000000e+00, 2.67069715e+07],\n",
       "       [1.58000000e+00, 2.50315891e+07],\n",
       "       [1.65000000e+00, 2.43971662e+07],\n",
       "       [1.64000000e+00, 2.46106452e+07],\n",
       "       [1.62000000e+00, 2.46371484e+07],\n",
       "       [1.57000000e+00, 2.53949028e+07],\n",
       "       [1.56000000e+00, 2.63850814e+07],\n",
       "       [1.57000000e+00, 2.68084106e+07],\n",
       "       [1.47000000e+00, 2.87852798e+07],\n",
       "       [1.41000000e+00, 2.99137444e+07],\n",
       "       [1.33000000e+00, 3.28172541e+07],\n",
       "       [1.33000000e+00, 3.25299202e+07],\n",
       "       [1.32000000e+00, 3.17560972e+07],\n",
       "       [1.31000000e+00, 3.26083015e+07],\n",
       "       [1.33000000e+00, 3.24550471e+07],\n",
       "       [1.17000000e+00, 3.93673362e+07],\n",
       "       [1.21000000e+00, 3.80104262e+07],\n",
       "       [1.17000000e+00, 3.73053077e+07],\n",
       "       [1.18000000e+00, 3.82476693e+07],\n",
       "       [1.21000000e+00, 3.70398538e+07],\n",
       "       [1.24000000e+00, 3.73523606e+07],\n",
       "       [1.28000000e+00, 3.70308937e+07],\n",
       "       [1.26000000e+00, 3.43976511e+07],\n",
       "       [1.19000000e+00, 3.66342690e+07],\n",
       "       [1.09000000e+00, 4.72939216e+07],\n",
       "       [1.18000000e+00, 3.83155004e+07],\n",
       "       [1.18000000e+00, 3.57290139e+07],\n",
       "       [1.23000000e+00, 3.51823208e+07],\n",
       "       [1.21000000e+00, 3.47857125e+07],\n",
       "       [1.21000000e+00, 3.44680174e+07],\n",
       "       [1.24000000e+00, 3.25551193e+07],\n",
       "       [1.25000000e+00, 3.15951252e+07],\n",
       "       [1.22000000e+00, 3.20205739e+07],\n",
       "       [1.13000000e+00, 3.36841750e+07],\n",
       "       [9.90000000e-01, 3.70077977e+07],\n",
       "       [9.90000000e-01, 3.39058546e+07],\n",
       "       [8.70000000e-01, 4.10774706e+07],\n",
       "       [7.70000000e-01, 6.10344571e+07],\n",
       "       [9.60000000e-01, 3.93735792e+07],\n",
       "       [9.40000000e-01, 4.21403934e+07],\n",
       "       [9.80000000e-01, 3.82954883e+07],\n",
       "       [9.90000000e-01, 3.80498026e+07],\n",
       "       [8.90000000e-01, 3.88797169e+07],\n",
       "       [1.03000000e+00, 4.34098358e+07],\n",
       "       [1.05000000e+00, 4.13863141e+07],\n",
       "       [1.09000000e+00, 4.04496031e+07],\n",
       "       [1.07000000e+00, 4.07412140e+07],\n",
       "       [1.06000000e+00, 4.00215288e+07],\n",
       "       [1.08000000e+00, 3.67098875e+07],\n",
       "       [9.70000000e-01, 4.31678061e+07],\n",
       "       [8.70000000e-01, 6.25056465e+07],\n",
       "       [1.09000000e+00, 4.01716408e+07],\n",
       "       [1.08000000e+00, 4.29398215e+07],\n",
       "       [1.20000000e+00, 3.72999452e+07],\n",
       "       [1.13000000e+00, 3.67031567e+07]])"
      ]
     },
     "execution_count": 44,
     "metadata": {},
     "output_type": "execute_result"
    }
   ],
   "source": [
    "label0"
   ]
  },
  {
   "cell_type": "code",
   "execution_count": 45,
   "id": "e6db5548-d642-4057-a1ab-aede7319ef1d",
   "metadata": {},
   "outputs": [],
   "source": [
    "label1 = twoVar[label ==1]"
   ]
  },
  {
   "cell_type": "code",
   "execution_count": 46,
   "id": "9f560265-3b33-40ba-a73b-efd96f5e51d4",
   "metadata": {},
   "outputs": [
    {
     "data": {
      "text/plain": [
       "(18080, 2)"
      ]
     },
     "execution_count": 46,
     "metadata": {},
     "output_type": "execute_result"
    }
   ],
   "source": [
    "np.shape(label1)"
   ]
  },
  {
   "cell_type": "code",
   "execution_count": 47,
   "id": "45a76262-2c4b-4c79-9d01-18fcfb2db3a9",
   "metadata": {},
   "outputs": [
    {
     "data": {
      "image/png": "[encoded data removed]",
      "text/plain": [
       "<Figure size 432x288 with 1 Axes>"
      ]
     },
     "metadata": {
      "needs_background": "light"
     },
     "output_type": "display_data"
    }
   ],
   "source": [
    "plt.scatter(label0[:,0],label0[:,1],color = 'green')\n",
    "plt.scatter(label1[:,0],label1[:,1],color = 'brown')\n",
    "plt.ylim([0,70000000])\n",
    "plt.show()"
   ]
  },
  {
   "cell_type": "code",
   "execution_count": 48,
   "id": "4e4e5842-feaf-442f-85db-e4c65c4081c3",
   "metadata": {},
   "outputs": [],
   "source": [
    "from sklearn.cluster import AgglomerativeClustering"
   ]
  },
  {
   "cell_type": "code",
   "execution_count": 49,
   "id": "acc61a6a-106b-47b3-ae65-e1e456f7b2c3",
   "metadata": {},
   "outputs": [],
   "source": [
    "hClustering = AgglomerativeClustering().fit(twoVar)"
   ]
  },
  {
   "cell_type": "code",
   "execution_count": 50,
   "id": "a65b06bd-a7df-4baa-9b65-97cb679dde04",
   "metadata": {},
   "outputs": [
    {
     "data": {
      "text/plain": [
       "0.009260781412680146"
      ]
     },
     "execution_count": 50,
     "metadata": {},
     "output_type": "execute_result"
    }
   ],
   "source": [
    "np.mean(hClustering.labels_)"
   ]
  },
  {
   "cell_type": "code",
   "execution_count": 51,
   "id": "6e3f5be8-eef7-44bc-bb80-360d8e00c323",
   "metadata": {},
   "outputs": [],
   "source": [
    "hLabel = hClustering.fit_predict(twoVar)"
   ]
  },
  {
   "cell_type": "code",
   "execution_count": 52,
   "id": "05b02a94-0c19-4abf-84cf-be4e7c916a2d",
   "metadata": {},
   "outputs": [],
   "source": [
    "hLabel0 = twoVar[hLabel == 0]\n",
    "hLabel1 = twoVar[hLabel == 1]"
   ]
  },
  {
   "cell_type": "code",
   "execution_count": 53,
   "id": "7ce59fc7-3bfc-4b8d-b642-07d1c692c14a",
   "metadata": {},
   "outputs": [
    {
     "data": {
      "text/plain": [
       "Text(0.5, 0, 'Number of points in node (or index of point if no parenthesis).')"
      ]
     },
     "execution_count": 53,
     "metadata": {},
     "output_type": "execute_result"
    },
    {
     "data": {
      "image/png": "[encoded data removed]",
      "text/plain": [
       "<Figure size 432x288 with 1 Axes>"
      ]
     },
     "metadata": {
      "needs_background": "light"
     },
     "output_type": "display_data"
    }
   ],
   "source": [
    "\n",
    "from scipy.cluster.hierarchy import dendrogram\n",
    "from sklearn.datasets import load_iris\n",
    "from sklearn.cluster import AgglomerativeClustering\n",
    "\n",
    "\n",
    "def plot_dendrogram(model, **kwargs):\n",
    "    # Create linkage matrix and then plot the dendrogram\n",
    "\n",
    "    # create the counts of samples under each node\n",
    "    counts = np.zeros(model.children_.shape[0])\n",
    "    n_samples = len(model.labels_)\n",
    "    for i, merge in enumerate(model.children_):\n",
    "        current_count = 0\n",
    "        for child_idx in merge:\n",
    "            if child_idx < n_samples:\n",
    "                current_count += 1  # leaf node\n",
    "            else:\n",
    "                current_count += counts[child_idx - n_samples]\n",
    "        counts[i] = current_count\n",
    "\n",
    "    linkage_matrix = np.column_stack(\n",
    "        [model.children_, model.distances_, counts]\n",
    "    ).astype(float)\n",
    "\n",
    "    # Plot the corresponding dendrogram\n",
    "    dendrogram(linkage_matrix, **kwargs)\n",
    "\n",
    "hClustering = AgglomerativeClustering(distance_threshold=0,n_clusters=None).fit(twoVar)\n",
    "plt.title(\"Hierarchical Clustering Dendrogram\")\n",
    "# plot the top three levels of the dendrogram\n",
    "plot_dendrogram(hClustering, truncate_mode=\"level\", p=5)\n",
    "plt.xlabel(\"Number of points in node (or index of point if no parenthesis).\")"
   ]
  },
  {
   "cell_type": "code",
   "execution_count": 54,
   "id": "6b243cd8-5761-4d55-bf18-91c76c133620",
   "metadata": {},
   "outputs": [],
   "source": [
    "from sklearn.cluster import DBSCAN"
   ]
  },
  {
   "cell_type": "code",
   "execution_count": 55,
   "id": "b03dfcfd-11d8-4b9e-b5f4-30ddbfabc3c0",
   "metadata": {},
   "outputs": [],
   "source": [
    "from sklearn.preprocessing import Normalizer"
   ]
  },
  {
   "cell_type": "code",
   "execution_count": 56,
   "id": "db74827e-f99a-4298-b370-c2a85c373db8",
   "metadata": {},
   "outputs": [],
   "source": [
    "twoVar[:,1] = (twoVar[:,1]-np.mean(twoVar[:,1]))/np.std(twoVar[:,1])"
   ]
  },
  {
   "cell_type": "code",
   "execution_count": 57,
   "id": "9c2a643d-f4f2-4714-bb56-fff0e8418ede",
   "metadata": {},
   "outputs": [],
   "source": [
    "DBClustering = DBSCAN(eps =2, min_samples = 4).fit(twoVar)"
   ]
  },
  {
   "cell_type": "code",
   "execution_count": 58,
   "id": "8e84e5fe-f3a2-48b9-ba4f-4053c365edd6",
   "metadata": {},
   "outputs": [],
   "source": [
    "DBLabel = DBClustering.fit_predict(twoVar)"
   ]
  },
  {
   "cell_type": "code",
   "execution_count": 59,
   "id": "a2ef90fc-e16d-40eb-af4a-8136f201b2e8",
   "metadata": {},
   "outputs": [],
   "source": [
    "DBLabel0 = twoVar[DBLabel == 0]\n",
    "DBLabel1 = twoVar[DBLabel == 1]"
   ]
  },
  {
   "cell_type": "code",
   "execution_count": 60,
   "id": "077b4505-717c-4dd0-b808-e19d9e3f6a88",
   "metadata": {},
   "outputs": [
    {
     "data": {
      "image/png": "[encoded data removed]",
      "text/plain": [
       "<Figure size 432x288 with 1 Axes>"
      ]
     },
     "metadata": {
      "needs_background": "light"
     },
     "output_type": "display_data"
    }
   ],
   "source": [
    "plt.scatter(DBLabel0[:,0],DBLabel0[:,1],color = 'green')\n",
    "plt.scatter(DBLabel1[:,0],DBLabel1[:,1],color = 'red')\n",
    "plt.ylim([0,20])\n",
    "plt.show()"
   ]
  }
 ],
 "metadata": {
  "kernelspec": {
   "display_name": "Python 3 (ipykernel)",
   "language": "python",
   "name": "python3"
  },
  "language_info": {
   "codemirror_mode": {
    "name": "ipython",
    "version": 3
   },
   "file_extension": ".py",
   "mimetype": "text/x-python",
   "name": "python",
   "nbconvert_exporter": "python",
   "pygments_lexer": "ipython3",
   "version": "3.9.7"
  }
 },
 "nbformat": 4,
 "nbformat_minor": 5
}
